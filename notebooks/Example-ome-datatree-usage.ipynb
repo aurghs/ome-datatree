{
 "cells": [
  {
   "cell_type": "code",
   "execution_count": null,
   "id": "fce6cea9",
   "metadata": {},
   "outputs": [],
   "source": [
    "import datatree\n",
    "import ome_datatree\n",
    "import ome_zarr.utils"
   ]
  },
  {
   "cell_type": "markdown",
   "id": "fd99f770",
   "metadata": {},
   "source": [
    "#### download data"
   ]
  },
  {
   "cell_type": "code",
   "execution_count": null,
   "id": "44797515",
   "metadata": {},
   "outputs": [],
   "source": [
    "ome_zarr.utils.download(\"https://uk1s3.embassy.ebi.ac.uk/idr/zarr/v0.3/idr0079A/9836998.zarr\")"
   ]
  },
  {
   "cell_type": "markdown",
   "id": "fffa742d",
   "metadata": {},
   "source": [
    "#### read data in the datatree"
   ]
  },
  {
   "cell_type": "code",
   "execution_count": null,
   "id": "8b57f1d5",
   "metadata": {
    "scrolled": false
   },
   "outputs": [],
   "source": [
    "tree = ome_datatree.open_ome_datatree(\"9836998.zarr\")"
   ]
  },
  {
   "cell_type": "code",
   "execution_count": null,
   "id": "69f1e6ad",
   "metadata": {},
   "outputs": [],
   "source": [
    "print(tree)"
   ]
  },
  {
   "cell_type": "code",
   "execution_count": null,
   "id": "1a20f282",
   "metadata": {},
   "outputs": [],
   "source": [
    "tree.ds.attrs"
   ]
  },
  {
   "cell_type": "code",
   "execution_count": null,
   "id": "a4845a3e",
   "metadata": {
    "scrolled": false
   },
   "outputs": [],
   "source": [
    "tree[\"labels/0\"].ds.attrs"
   ]
  },
  {
   "cell_type": "markdown",
   "id": "b5cbee4a",
   "metadata": {},
   "source": [
    "#### write back data"
   ]
  },
  {
   "cell_type": "code",
   "execution_count": null,
   "id": "6395a581",
   "metadata": {},
   "outputs": [],
   "source": [
    "# Need to mock function xarray.backends.api._validate_attrs\n",
    "# Currently, when writing data in xarray, there is an attribute type check for all backends indiscriminately. \n",
    "# The only supported types are those that can be serialized in a netCDF file: \n",
    "# str, Number, np.ndarray, np.number, list, tuple)\n",
    "\n",
    "from unittest import mock\n",
    "with mock.patch('xarray.backends.api._validate_attrs', return_value = None):\n",
    "    tree.to_zarr(\"9836998-test.zarr\")"
   ]
  },
  {
   "cell_type": "code",
   "execution_count": null,
   "id": "db98c00c",
   "metadata": {},
   "outputs": [],
   "source": [
    "ls -a 9836998-test.zarr/1/1"
   ]
  },
  {
   "cell_type": "code",
   "execution_count": null,
   "id": "b0d620e9",
   "metadata": {
    "scrolled": false
   },
   "outputs": [],
   "source": [
    "cat 9836998-test.zarr/.zattrs"
   ]
  },
  {
   "cell_type": "markdown",
   "id": "f9c02ff0",
   "metadata": {},
   "source": [
    "#### read written data"
   ]
  },
  {
   "cell_type": "code",
   "execution_count": null,
   "id": "7babdc98",
   "metadata": {},
   "outputs": [],
   "source": [
    "## NOTE: Ot can be opened directly with datatree. \n",
    "tree_test = datatree.open_datatree(\"9836998-test.zarr\", engine=\"zarr\")"
   ]
  },
  {
   "cell_type": "code",
   "execution_count": null,
   "id": "35a34e70",
   "metadata": {},
   "outputs": [],
   "source": [
    "print(tree_test)"
   ]
  }
 ],
 "metadata": {
  "kernelspec": {
   "display_name": "Python 3 (ipykernel)",
   "language": "python",
   "name": "python3"
  },
  "language_info": {
   "codemirror_mode": {
    "name": "ipython",
    "version": 3
   },
   "file_extension": ".py",
   "mimetype": "text/x-python",
   "name": "python",
   "nbconvert_exporter": "python",
   "pygments_lexer": "ipython3",
   "version": "3.10.2"
  }
 },
 "nbformat": 4,
 "nbformat_minor": 5
}
